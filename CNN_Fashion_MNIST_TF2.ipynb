{
  "nbformat": 4,
  "nbformat_minor": 0,
  "metadata": {
    "colab": {
      "name": "CNN_Fashion_MNIST_TF2.ipynb",
      "provenance": []
    },
    "kernelspec": {
      "name": "python3",
      "display_name": "Python 3"
    },
    "accelerator": "GPU"
  },
  "cells": [
    {
      "cell_type": "code",
      "metadata": {
        "colab": {
          "base_uri": "https://localhost:8080/"
        },
        "id": "QetjDnFRWE11",
        "outputId": "0545ecea-dc61-4224-c47e-03caec9a3e12"
      },
      "source": [
        "import tensorflow as tf\r\n",
        "print(tf.__version__)"
      ],
      "execution_count": null,
      "outputs": [
        {
          "output_type": "stream",
          "text": [
            "2.4.1\n"
          ],
          "name": "stdout"
        }
      ]
    },
    {
      "cell_type": "code",
      "metadata": {
        "id": "_ChKwQ-yue4h"
      },
      "source": [
        "import pandas as pd\r\n",
        "import numpy as np\r\n",
        "import matplotlib.pyplot as plt\r\n",
        "from tensorflow.keras.layers import Input, Conv2D, Flatten, Dropout, Dense\r\n",
        "from tensorflow.keras.models import Model"
      ],
      "execution_count": null,
      "outputs": []
    },
    {
      "cell_type": "code",
      "metadata": {
        "colab": {
          "base_uri": "https://localhost:8080/"
        },
        "id": "5z4plnLlvCdq",
        "outputId": "1b8857e9-4002-4450-a92b-101ebe0fb63a"
      },
      "source": [
        "# Load in the data\r\n",
        "fashion_mnist = tf.keras.datasets.fashion_mnist\r\n",
        "\r\n",
        "(X_train, y_train), (X_test, y_test) = fashion_mnist.load_data()\r\n",
        "X_train, X_test = X_train / 255.0 , X_test / 255.0\r\n",
        "print(\"X_train.shape :\", X_train.shape)"
      ],
      "execution_count": null,
      "outputs": [
        {
          "output_type": "stream",
          "text": [
            "Downloading data from https://storage.googleapis.com/tensorflow/tf-keras-datasets/train-labels-idx1-ubyte.gz\n",
            "32768/29515 [=================================] - 0s 0us/step\n",
            "Downloading data from https://storage.googleapis.com/tensorflow/tf-keras-datasets/train-images-idx3-ubyte.gz\n",
            "26427392/26421880 [==============================] - 1s 0us/step\n",
            "Downloading data from https://storage.googleapis.com/tensorflow/tf-keras-datasets/t10k-labels-idx1-ubyte.gz\n",
            "8192/5148 [===============================================] - 0s 0us/step\n",
            "Downloading data from https://storage.googleapis.com/tensorflow/tf-keras-datasets/t10k-images-idx3-ubyte.gz\n",
            "4423680/4422102 [==============================] - 0s 0us/step\n",
            "X_train.shape : (60000, 28, 28)\n"
          ],
          "name": "stdout"
        }
      ]
    },
    {
      "cell_type": "code",
      "metadata": {
        "colab": {
          "base_uri": "https://localhost:8080/"
        },
        "id": "grMQedIuvthJ",
        "outputId": "08d4429a-615a-4e1c-d59e-328828fe5c2b"
      },
      "source": [
        "# The data is 2D\r\n",
        "# Convulation only expects height x width x color\r\n",
        "X_train = np.expand_dims(X_train, -1)\r\n",
        "X_test = np.expand_dims(X_test, -1)\r\n",
        "print(X_train.shape)"
      ],
      "execution_count": null,
      "outputs": [
        {
          "output_type": "stream",
          "text": [
            "(60000, 28, 28, 1)\n"
          ],
          "name": "stdout"
        }
      ]
    },
    {
      "cell_type": "code",
      "metadata": {
        "colab": {
          "base_uri": "https://localhost:8080/"
        },
        "id": "4iD4azgUwc37",
        "outputId": "992cde30-c1b6-499a-fca1-cbb51cdf2e94"
      },
      "source": [
        "print(X_test.shape)"
      ],
      "execution_count": null,
      "outputs": [
        {
          "output_type": "stream",
          "text": [
            "(10000, 28, 28, 1)\n"
          ],
          "name": "stdout"
        }
      ]
    },
    {
      "cell_type": "code",
      "metadata": {
        "colab": {
          "base_uri": "https://localhost:8080/"
        },
        "id": "SzLz7zXmwfDE",
        "outputId": "31a49ef4-145e-4611-a7ed-a8e925d1af61"
      },
      "source": [
        "print(y_train.shape)"
      ],
      "execution_count": null,
      "outputs": [
        {
          "output_type": "stream",
          "text": [
            "(60000,)\n"
          ],
          "name": "stdout"
        }
      ]
    },
    {
      "cell_type": "code",
      "metadata": {
        "colab": {
          "base_uri": "https://localhost:8080/"
        },
        "id": "Iv_XM9Iywi8H",
        "outputId": "7fed7c26-0d8e-4e68-cea1-f3c17bc5f351"
      },
      "source": [
        "# Number of classes\r\n",
        "K = len(set(y_train))\r\n",
        "print(\"Number of Classes :\", K)"
      ],
      "execution_count": null,
      "outputs": [
        {
          "output_type": "stream",
          "text": [
            "Number of Classes : 10\n"
          ],
          "name": "stdout"
        }
      ]
    },
    {
      "cell_type": "code",
      "metadata": {
        "id": "8L7FnRsPwxJc"
      },
      "source": [
        "# Build the model using the Functional API\r\n",
        "i = Input(shape=X_train[0].shape)\r\n",
        "x = Conv2D(32, (3, 3), strides=2, activation='relu')(i)\r\n",
        "x = Conv2D(64, (3, 3), strides=2, activation='relu')(x)\r\n",
        "x = Conv2D(128, (3, 3), strides=2, activation='relu')(x)\r\n",
        "x = Flatten()(x)\r\n",
        "x = Dropout(0.2)(x)\r\n",
        "x = Dense(512, activation='relu')(x)\r\n",
        "x = Dropout(0.2)(x)\r\n",
        "x = Dense(K, activation='softmax')(x)\r\n",
        "\r\n",
        "model = Model(i, x)"
      ],
      "execution_count": null,
      "outputs": []
    },
    {
      "cell_type": "code",
      "metadata": {
        "colab": {
          "base_uri": "https://localhost:8080/"
        },
        "id": "5x9w4spgxL8w",
        "outputId": "d566191d-6724-463b-c61e-d29d70596066"
      },
      "source": [
        "X_train[0].shape"
      ],
      "execution_count": null,
      "outputs": [
        {
          "output_type": "execute_result",
          "data": {
            "text/plain": [
              "(28, 28, 1)"
            ]
          },
          "metadata": {
            "tags": []
          },
          "execution_count": 9
        }
      ]
    },
    {
      "cell_type": "code",
      "metadata": {
        "colab": {
          "base_uri": "https://localhost:8080/"
        },
        "id": "9pi2swD5xMcQ",
        "outputId": "55dba964-2b0d-4fb1-b066-8dfade1820ee"
      },
      "source": [
        "# Compile and fit\r\n",
        "model.compile(optimizer='adam',\r\n",
        "              loss = 'sparse_categorical_crossentropy',\r\n",
        "              metrics = ['accuracy'])\r\n",
        "r = model.fit(X_train, y_train, validation_data=(X_test, y_test), epochs=15)"
      ],
      "execution_count": null,
      "outputs": [
        {
          "output_type": "stream",
          "text": [
            "Epoch 1/15\n",
            "1875/1875 [==============================] - 16s 5ms/step - loss: 0.7036 - accuracy: 0.7416 - val_loss: 0.4155 - val_accuracy: 0.8474\n",
            "Epoch 2/15\n",
            "1875/1875 [==============================] - 9s 5ms/step - loss: 0.3811 - accuracy: 0.8582 - val_loss: 0.3638 - val_accuracy: 0.8636\n",
            "Epoch 3/15\n",
            "1875/1875 [==============================] - 9s 5ms/step - loss: 0.3206 - accuracy: 0.8807 - val_loss: 0.3229 - val_accuracy: 0.8822\n",
            "Epoch 4/15\n",
            "1875/1875 [==============================] - 9s 5ms/step - loss: 0.2813 - accuracy: 0.8929 - val_loss: 0.3117 - val_accuracy: 0.8854\n",
            "Epoch 5/15\n",
            "1875/1875 [==============================] - 9s 5ms/step - loss: 0.2540 - accuracy: 0.9034 - val_loss: 0.3063 - val_accuracy: 0.8927\n",
            "Epoch 6/15\n",
            "1875/1875 [==============================] - 9s 5ms/step - loss: 0.2308 - accuracy: 0.9112 - val_loss: 0.2950 - val_accuracy: 0.8978\n",
            "Epoch 7/15\n",
            "1875/1875 [==============================] - 9s 5ms/step - loss: 0.2113 - accuracy: 0.9200 - val_loss: 0.3068 - val_accuracy: 0.8947\n",
            "Epoch 8/15\n",
            "1875/1875 [==============================] - 9s 5ms/step - loss: 0.1975 - accuracy: 0.9251 - val_loss: 0.3102 - val_accuracy: 0.8945\n",
            "Epoch 9/15\n",
            "1875/1875 [==============================] - 9s 5ms/step - loss: 0.1762 - accuracy: 0.9334 - val_loss: 0.3028 - val_accuracy: 0.8987\n",
            "Epoch 10/15\n",
            "1875/1875 [==============================] - 9s 5ms/step - loss: 0.1679 - accuracy: 0.9350 - val_loss: 0.3125 - val_accuracy: 0.9022\n",
            "Epoch 11/15\n",
            "1875/1875 [==============================] - 9s 5ms/step - loss: 0.1576 - accuracy: 0.9398 - val_loss: 0.3103 - val_accuracy: 0.9004\n",
            "Epoch 12/15\n",
            "1875/1875 [==============================] - 9s 5ms/step - loss: 0.1472 - accuracy: 0.9434 - val_loss: 0.3166 - val_accuracy: 0.9042\n",
            "Epoch 13/15\n",
            "1875/1875 [==============================] - 9s 5ms/step - loss: 0.1382 - accuracy: 0.9464 - val_loss: 0.3200 - val_accuracy: 0.9037\n",
            "Epoch 14/15\n",
            "1875/1875 [==============================] - 9s 5ms/step - loss: 0.1304 - accuracy: 0.9499 - val_loss: 0.3575 - val_accuracy: 0.9018\n",
            "Epoch 15/15\n",
            "1875/1875 [==============================] - 9s 5ms/step - loss: 0.1226 - accuracy: 0.9533 - val_loss: 0.3612 - val_accuracy: 0.9003\n"
          ],
          "name": "stdout"
        }
      ]
    },
    {
      "cell_type": "code",
      "metadata": {
        "colab": {
          "base_uri": "https://localhost:8080/",
          "height": 282
        },
        "id": "psENLCX115Qc",
        "outputId": "1a46bba5-c805-4b45-b61a-4153265bd9df"
      },
      "source": [
        "# Plot loss per iteration\r\n",
        "plt.plot(r.history['loss'], label='loss')\r\n",
        "plt.plot(r.history['val_loss'], label='val_loss')\r\n",
        "plt.legend()"
      ],
      "execution_count": null,
      "outputs": [
        {
          "output_type": "execute_result",
          "data": {
            "text/plain": [
              "<matplotlib.legend.Legend at 0x7f03c463f668>"
            ]
          },
          "metadata": {
            "tags": []
          },
          "execution_count": 13
        },
        {
          "output_type": "display_data",
          "data": {
            "image/png": "[encoded data removed]",
            "text/plain": [
              "<Figure size 432x288 with 1 Axes>"
            ]
          },
          "metadata": {
            "tags": [],
            "needs_background": "light"
          }
        }
      ]
    },
    {
      "cell_type": "code",
      "metadata": {
        "colab": {
          "base_uri": "https://localhost:8080/",
          "height": 282
        },
        "id": "24Dz7Owc46vQ",
        "outputId": "3c2da266-0387-4df0-a3ff-db27a8d5336c"
      },
      "source": [
        "# Plot accuracy per iteration\r\n",
        "plt.plot(r.history['accuracy'], label='accuracy')\r\n",
        "plt.plot(r.history['val_accuracy'], label='val_acc')\r\n",
        "plt.legend()"
      ],
      "execution_count": null,
      "outputs": [
        {
          "output_type": "execute_result",
          "data": {
            "text/plain": [
              "<matplotlib.legend.Legend at 0x7f03c6cc42e8>"
            ]
          },
          "metadata": {
            "tags": []
          },
          "execution_count": 14
        },
        {
          "output_type": "display_data",
          "data": {
            "image/png": "[encoded data removed]",
            "text/plain": [
              "<Figure size 432x288 with 1 Axes>"
            ]
          },
          "metadata": {
            "tags": [],
            "needs_background": "light"
          }
        }
      ]
    },
    {
      "cell_type": "code",
      "metadata": {
        "id": "2b-qn5uT5oVt"
      },
      "source": [
        "# Label Mapping\r\n",
        "labels= '''T-Shirt/top\r\n",
        "Trouser\r\n",
        "Pullover\r\n",
        "Dress\r\n",
        "Coat\r\n",
        "Sandal\r\n",
        "Shirt\r\n",
        "Sneaker\r\n",
        "Bag\r\n",
        "Ankle Boot'''.split(\"\\n\")"
      ],
      "execution_count": null,
      "outputs": []
    },
    {
      "cell_type": "code",
      "metadata": {
        "colab": {
          "base_uri": "https://localhost:8080/",
          "height": 281
        },
        "id": "Og2NczmY6lQX",
        "outputId": "edc2b58f-723d-40e0-b7a5-3aa95482cf4e"
      },
      "source": [
        "p_test = model.predict(X_test).argmax(axis=1)\r\n",
        "misclassified_idx = np.where(p_test != y_test)[0]\r\n",
        "i = np.random.choice(misclassified_idx)\r\n",
        "plt.imshow(X_test[i].reshape(28, 28), cmap='gray')\r\n",
        "plt.title(\"True Label : %s Predicted Label : %s\" % (labels[y_test[i]], labels[p_test[i]]));"
      ],
      "execution_count": null,
      "outputs": [
        {
          "output_type": "display_data",
          "data": {
            "image/png": "[encoded data removed]",
            "text/plain": [
              "<Figure size 432x288 with 1 Axes>"
            ]
          },
          "metadata": {
            "tags": [],
            "needs_background": "light"
          }
        }
      ]
    },
    {
      "cell_type": "code",
      "metadata": {
        "colab": {
          "base_uri": "https://localhost:8080/",
          "height": 496
        },
        "id": "LfNwiFku7YYi",
        "outputId": "4207f745-f290-4090-883f-b06bbc028a5d"
      },
      "source": [
        "# Plot confusion matrix\r\n",
        "from sklearn.metrics import confusion_matrix\r\n",
        "import itertools\r\n",
        "\r\n",
        "def plot_confusion_matrix(cm, classes,\r\n",
        "                          normalize=False,\r\n",
        "                          title='Confusion matrix',\r\n",
        "                          cmap=plt.cm.Blues):\r\n",
        "  \"\"\"\r\n",
        "  This function prints and plots the confusion matrix.\r\n",
        "  Normalization can be applied by setting `normalize=True`.\r\n",
        "  \"\"\"\r\n",
        "  if normalize:\r\n",
        "      cm = cm.astype('float') / cm.sum(axis=1)[:, np.newaxis]\r\n",
        "      print(\"Normalized confusion matrix\")\r\n",
        "  else:\r\n",
        "      print('Confusion matrix, without normalization')\r\n",
        "\r\n",
        "  print(cm)\r\n",
        "\r\n",
        "  plt.imshow(cm, interpolation='nearest', cmap=cmap)\r\n",
        "  plt.title(title)\r\n",
        "  plt.colorbar()\r\n",
        "  tick_marks = np.arange(len(classes))\r\n",
        "  plt.xticks(tick_marks, classes, rotation=45)\r\n",
        "  plt.yticks(tick_marks, classes)\r\n",
        "\r\n",
        "  fmt = '.2f' if normalize else 'd'\r\n",
        "  thresh = cm.max() / 2.\r\n",
        "  for i, j in itertools.product(range(cm.shape[0]), range(cm.shape[1])):\r\n",
        "      plt.text(j, i, format(cm[i, j], fmt),\r\n",
        "               horizontalalignment=\"center\",\r\n",
        "               color=\"white\" if cm[i, j] > thresh else \"black\")\r\n",
        "\r\n",
        "  plt.tight_layout()\r\n",
        "  plt.ylabel('True label')\r\n",
        "  plt.xlabel('Predicted label')\r\n",
        "  plt.show()\r\n",
        "\r\n",
        "\r\n",
        "# p_test = model.predict(x_test).argmax(axis=1)\r\n",
        "cm = confusion_matrix(y_test, p_test)\r\n",
        "plot_confusion_matrix(cm, list(range(10)))"
      ],
      "execution_count": null,
      "outputs": [
        {
          "output_type": "stream",
          "text": [
            "Confusion matrix, without normalization\n",
            "[[879   2  28  14   3   1  67   0   6   0]\n",
            " [  1 981   2  12   1   0   1   0   2   0]\n",
            " [ 14   0 900   9  31   0  46   0   0   0]\n",
            " [ 17   5  19 920  23   1  14   0   1   0]\n",
            " [  1   2  93  39 797   0  68   0   0   0]\n",
            " [  0   0   0   0   0 982   0   9   0   9]\n",
            " [136   1  85  23  86   0 660   0   9   0]\n",
            " [  0   0   0   0   0  21   0 952   0  27]\n",
            " [  3   2   6   2   4   3   5   3 972   0]\n",
            " [  1   0   0   0   0   6   0  32   1 960]]\n"
          ],
          "name": "stdout"
        },
        {
          "output_type": "display_data",
          "data": {
            "image/png": "[encoded data removed]",
            "text/plain": [
              "<Figure size 432x288 with 2 Axes>"
            ]
          },
          "metadata": {
            "tags": [],
            "needs_background": "light"
          }
        }
      ]
    },
    {
      "cell_type": "code",
      "metadata": {
        "id": "QgKPenDp72DG"
      },
      "source": [
        ""
      ],
      "execution_count": null,
      "outputs": []
    }
  ]
}