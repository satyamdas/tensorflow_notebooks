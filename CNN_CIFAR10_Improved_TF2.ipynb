{
  "nbformat": 4,
  "nbformat_minor": 0,
  "metadata": {
    "colab": {
      "name": "CNN_CIFAR10_Improved_TF2.ipynb",
      "provenance": []
    },
    "kernelspec": {
      "name": "python3",
      "display_name": "Python 3"
    },
    "accelerator": "GPU"
  },
  "cells": [
    {
      "cell_type": "code",
      "metadata": {
        "colab": {
          "base_uri": "https://localhost:8080/"
        },
        "id": "evI3v7S9jUIl",
        "outputId": "871d20f1-0286-4cd9-a1c9-acbb3180f088"
      },
      "source": [
        "import tensorflow as tf\r\n",
        "print(tf.__version__)"
      ],
      "execution_count": 1,
      "outputs": [
        {
          "output_type": "stream",
          "text": [
            "2.4.1\n"
          ],
          "name": "stdout"
        }
      ]
    },
    {
      "cell_type": "code",
      "metadata": {
        "id": "nsNaZgNoj4v0"
      },
      "source": [
        "import pandas as pd\r\n",
        "import numpy as np\r\n",
        "import matplotlib.pyplot as plt\r\n",
        "from tensorflow.keras.layers import Input, Conv2D, Dense, Flatten, Dropout, GlobalMaxPooling2D, MaxPooling2D, BatchNormalization\r\n",
        "from tensorflow.keras.models import Model"
      ],
      "execution_count": 2,
      "outputs": []
    },
    {
      "cell_type": "code",
      "metadata": {
        "colab": {
          "base_uri": "https://localhost:8080/"
        },
        "id": "lyqY5fEpkYLV",
        "outputId": "d0fcdd15-a8c4-4181-e6f8-32994222a0af"
      },
      "source": [
        "# Load in the data\r\n",
        "cifar10 = tf.keras.datasets.cifar10\r\n",
        "\r\n",
        "(X_train, y_train), (X_test, y_test) = cifar10.load_data()"
      ],
      "execution_count": 3,
      "outputs": [
        {
          "output_type": "stream",
          "text": [
            "Downloading data from https://www.cs.toronto.edu/~kriz/cifar-10-python.tar.gz\n",
            "170500096/170498071 [==============================] - 6s 0us/step\n"
          ],
          "name": "stdout"
        }
      ]
    },
    {
      "cell_type": "code",
      "metadata": {
        "colab": {
          "base_uri": "https://localhost:8080/"
        },
        "id": "yE9c3K5Wk9YJ",
        "outputId": "1e76ddc2-7576-4d8b-8754-4963b2d62e9b"
      },
      "source": [
        "y_train.shape"
      ],
      "execution_count": 4,
      "outputs": [
        {
          "output_type": "execute_result",
          "data": {
            "text/plain": [
              "(50000, 1)"
            ]
          },
          "metadata": {
            "tags": []
          },
          "execution_count": 4
        }
      ]
    },
    {
      "cell_type": "code",
      "metadata": {
        "colab": {
          "base_uri": "https://localhost:8080/"
        },
        "id": "agSEmYpZlZAj",
        "outputId": "b31655e0-7ab1-46fb-bf43-de558c775523"
      },
      "source": [
        "y_test.shape"
      ],
      "execution_count": 5,
      "outputs": [
        {
          "output_type": "execute_result",
          "data": {
            "text/plain": [
              "(10000, 1)"
            ]
          },
          "metadata": {
            "tags": []
          },
          "execution_count": 5
        }
      ]
    },
    {
      "cell_type": "code",
      "metadata": {
        "colab": {
          "base_uri": "https://localhost:8080/"
        },
        "id": "VwkBRvzhlD6_",
        "outputId": "092d066f-b0b4-4b62-a3b1-3c6983b2e000"
      },
      "source": [
        "X_train , X_test = X_train / 255.0 , X_test / 255.0\r\n",
        "y_train , y_test = y_train.flatten() , y_test.flatten()\r\n",
        "print(\"X_train.shape :\", X_train.shape)\r\n",
        "print(\"y_train.shape :\", y_train.shape)"
      ],
      "execution_count": 6,
      "outputs": [
        {
          "output_type": "stream",
          "text": [
            "X_train.shape : (50000, 32, 32, 3)\n",
            "y_train.shape : (50000,)\n"
          ],
          "name": "stdout"
        }
      ]
    },
    {
      "cell_type": "code",
      "metadata": {
        "colab": {
          "base_uri": "https://localhost:8080/"
        },
        "id": "j7PJo_KIlo3r",
        "outputId": "7911f2f5-9946-4d92-fcb8-3f5615992630"
      },
      "source": [
        "# Number of classes\r\n",
        "K = len(set(y_train))\r\n",
        "print(\"Number of Classes :\", K)"
      ],
      "execution_count": 7,
      "outputs": [
        {
          "output_type": "stream",
          "text": [
            "Number of Classes : 10\n"
          ],
          "name": "stdout"
        }
      ]
    },
    {
      "cell_type": "code",
      "metadata": {
        "id": "_fkunz5umVPq"
      },
      "source": [
        "# Build the model\r\n",
        "i = Input(shape=X_train[0].shape)\r\n",
        "x = Conv2D(32, (3, 3), activation='relu', padding='same')(i)\r\n",
        "x = BatchNormalization()(x)\r\n",
        "x = Conv2D(32, (3, 3), activation='relu', padding='same')(x)\r\n",
        "x = BatchNormalization()(x)\r\n",
        "x = MaxPooling2D((2, 2))(x)\r\n",
        "x = Conv2D(64, (3, 3), activation='relu', padding='same')(x)\r\n",
        "x = BatchNormalization()(x)\r\n",
        "x = Conv2D(64, (3, 3), activation='relu', padding='same')(x)\r\n",
        "x = BatchNormalization()(x)\r\n",
        "x = MaxPooling2D((2, 2))(x)\r\n",
        "x = Conv2D(128, (3, 3), activation='relu', padding='same')(x)\r\n",
        "x = BatchNormalization()(x)\r\n",
        "x = Conv2D(128, (3, 3), activation='relu', padding='same')(x)\r\n",
        "x = BatchNormalization()(x)\r\n",
        "x = MaxPooling2D((2, 2))(x)\r\n",
        "\r\n",
        "x = Flatten()(x)\r\n",
        "x = Dropout(0.2)(x)\r\n",
        "x = Dense(1024, activation='relu')(x)\r\n",
        "x = Dropout(0.2)(x)\r\n",
        "x = Dense(K, activation='softmax')(x)\r\n",
        "\r\n",
        "model = Model(i, x)"
      ],
      "execution_count": 8,
      "outputs": []
    },
    {
      "cell_type": "code",
      "metadata": {
        "id": "bpFBQile12Mz"
      },
      "source": [
        "# Compile the model\r\n",
        "model.compile(optimizer='adam',\r\n",
        "              loss='sparse_categorical_crossentropy',\r\n",
        "              metrics=['accuracy'])\r\n"
      ],
      "execution_count": 9,
      "outputs": []
    },
    {
      "cell_type": "code",
      "metadata": {
        "colab": {
          "base_uri": "https://localhost:8080/"
        },
        "id": "k0zyaBU_2YWq",
        "outputId": "053cc586-327c-43a5-c4db-5807c0c2c0bd"
      },
      "source": [
        "r = model.fit(X_train, y_train, validation_data=(X_test, y_test), epochs=20)"
      ],
      "execution_count": null,
      "outputs": [
        {
          "output_type": "stream",
          "text": [
            "Epoch 1/20\n",
            "1563/1563 [==============================] - 18s 6ms/step - loss: 1.7295 - accuracy: 0.4471 - val_loss: 0.9796 - val_accuracy: 0.6593\n",
            "Epoch 2/20\n",
            "1563/1563 [==============================] - 9s 6ms/step - loss: 0.8846 - accuracy: 0.6895 - val_loss: 0.8344 - val_accuracy: 0.7102\n",
            "Epoch 3/20\n",
            "1563/1563 [==============================] - 9s 6ms/step - loss: 0.6870 - accuracy: 0.7603 - val_loss: 0.7595 - val_accuracy: 0.7448\n",
            "Epoch 4/20\n",
            "1563/1563 [==============================] - 9s 6ms/step - loss: 0.5833 - accuracy: 0.7956 - val_loss: 0.6845 - val_accuracy: 0.7665\n",
            "Epoch 5/20\n",
            "1563/1563 [==============================] - 10s 6ms/step - loss: 0.4776 - accuracy: 0.8356 - val_loss: 0.6564 - val_accuracy: 0.7882\n",
            "Epoch 6/20\n",
            "1563/1563 [==============================] - 9s 6ms/step - loss: 0.3980 - accuracy: 0.8624 - val_loss: 0.6463 - val_accuracy: 0.7909\n",
            "Epoch 7/20\n",
            "1563/1563 [==============================] - 9s 6ms/step - loss: 0.3330 - accuracy: 0.8831 - val_loss: 0.6253 - val_accuracy: 0.8050\n",
            "Epoch 8/20\n",
            "1563/1563 [==============================] - 10s 6ms/step - loss: 0.2827 - accuracy: 0.9008 - val_loss: 0.5698 - val_accuracy: 0.8199\n",
            "Epoch 9/20\n",
            "1563/1563 [==============================] - 10s 6ms/step - loss: 0.2243 - accuracy: 0.9238 - val_loss: 0.6119 - val_accuracy: 0.8174\n",
            "Epoch 10/20\n",
            "1563/1563 [==============================] - 9s 6ms/step - loss: 0.2033 - accuracy: 0.9284 - val_loss: 0.6312 - val_accuracy: 0.8248\n",
            "Epoch 11/20\n",
            "1563/1563 [==============================] - 9s 6ms/step - loss: 0.1773 - accuracy: 0.9381 - val_loss: 0.6592 - val_accuracy: 0.8185\n",
            "Epoch 12/20\n",
            "1563/1563 [==============================] - 9s 6ms/step - loss: 0.1581 - accuracy: 0.9457 - val_loss: 0.7941 - val_accuracy: 0.8047\n",
            "Epoch 13/20\n",
            "1563/1563 [==============================] - 9s 6ms/step - loss: 0.1406 - accuracy: 0.9525 - val_loss: 0.6453 - val_accuracy: 0.8257\n",
            "Epoch 14/20\n",
            "1563/1563 [==============================] - 9s 6ms/step - loss: 0.1286 - accuracy: 0.9567 - val_loss: 0.6832 - val_accuracy: 0.8278\n",
            "Epoch 15/20\n",
            "1563/1563 [==============================] - 9s 6ms/step - loss: 0.1237 - accuracy: 0.9601 - val_loss: 0.7205 - val_accuracy: 0.8309\n",
            "Epoch 16/20\n",
            "1563/1563 [==============================] - 9s 6ms/step - loss: 0.1136 - accuracy: 0.9632 - val_loss: 0.6821 - val_accuracy: 0.8285\n",
            "Epoch 17/20\n",
            "1563/1563 [==============================] - 9s 6ms/step - loss: 0.1081 - accuracy: 0.9640 - val_loss: 0.7173 - val_accuracy: 0.8328\n",
            "Epoch 18/20\n",
            "1563/1563 [==============================] - 9s 6ms/step - loss: 0.1031 - accuracy: 0.9650 - val_loss: 0.7681 - val_accuracy: 0.8363\n",
            "Epoch 19/20\n",
            "1563/1563 [==============================] - 9s 6ms/step - loss: 0.0941 - accuracy: 0.9675 - val_loss: 0.7371 - val_accuracy: 0.8314\n",
            "Epoch 20/20\n",
            "1563/1563 [==============================] - 9s 6ms/step - loss: 0.0917 - accuracy: 0.9703 - val_loss: 0.7683 - val_accuracy: 0.8273\n"
          ],
          "name": "stdout"
        }
      ]
    },
    {
      "cell_type": "code",
      "metadata": {
        "id": "n78Ubshk2nMr",
        "colab": {
          "base_uri": "https://localhost:8080/"
        },
        "outputId": "6c7b1973-96d9-41f0-e849-ab6e0f4617b8"
      },
      "source": [
        "# Fit with Data Augmentation\r\n",
        "batch_size = 32\r\n",
        "data_generator = tf.keras.preprocessing.image.ImageDataGenerator(width_shift_range=0.1, height_shift_range=0.1, horizontal_flip=True)\r\n",
        "train_generator = data_generator.flow(X_train, y_train, batch_size)\r\n",
        "steps_per_epoch = X_train.shape[0] // batch_size\r\n",
        "r = model.fit(train_generator, validation_data=(X_test, y_test), epochs=30)"
      ],
      "execution_count": 10,
      "outputs": [
        {
          "output_type": "stream",
          "text": [
            "Epoch 1/30\n",
            "1563/1563 [==============================] - 32s 16ms/step - loss: 1.8094 - accuracy: 0.4103 - val_loss: 1.2012 - val_accuracy: 0.5774\n",
            "Epoch 2/30\n",
            "1563/1563 [==============================] - 25s 16ms/step - loss: 1.0392 - accuracy: 0.6369 - val_loss: 0.8622 - val_accuracy: 0.7083\n",
            "Epoch 3/30\n",
            "1563/1563 [==============================] - 25s 16ms/step - loss: 0.8595 - accuracy: 0.7063 - val_loss: 0.9829 - val_accuracy: 0.6717\n",
            "Epoch 4/30\n",
            "1563/1563 [==============================] - 26s 16ms/step - loss: 0.7506 - accuracy: 0.7452 - val_loss: 0.6764 - val_accuracy: 0.7698\n",
            "Epoch 5/30\n",
            "1563/1563 [==============================] - 25s 16ms/step - loss: 0.6847 - accuracy: 0.7657 - val_loss: 0.6550 - val_accuracy: 0.7798\n",
            "Epoch 6/30\n",
            "1563/1563 [==============================] - 25s 16ms/step - loss: 0.6377 - accuracy: 0.7821 - val_loss: 0.6586 - val_accuracy: 0.7831\n",
            "Epoch 7/30\n",
            "1563/1563 [==============================] - 25s 16ms/step - loss: 0.5993 - accuracy: 0.7945 - val_loss: 0.6073 - val_accuracy: 0.7966\n",
            "Epoch 8/30\n",
            "1563/1563 [==============================] - 25s 16ms/step - loss: 0.5493 - accuracy: 0.8115 - val_loss: 0.5791 - val_accuracy: 0.8132\n",
            "Epoch 9/30\n",
            "1563/1563 [==============================] - 25s 16ms/step - loss: 0.5199 - accuracy: 0.8219 - val_loss: 0.5084 - val_accuracy: 0.8330\n",
            "Epoch 10/30\n",
            "1563/1563 [==============================] - 25s 16ms/step - loss: 0.4883 - accuracy: 0.8352 - val_loss: 0.5613 - val_accuracy: 0.8058\n",
            "Epoch 11/30\n",
            "1563/1563 [==============================] - 25s 16ms/step - loss: 0.4726 - accuracy: 0.8390 - val_loss: 0.5438 - val_accuracy: 0.8168\n",
            "Epoch 12/30\n",
            "1563/1563 [==============================] - 26s 16ms/step - loss: 0.4425 - accuracy: 0.8494 - val_loss: 0.5152 - val_accuracy: 0.8271\n",
            "Epoch 13/30\n",
            "1563/1563 [==============================] - 25s 16ms/step - loss: 0.4246 - accuracy: 0.8542 - val_loss: 0.4859 - val_accuracy: 0.8411\n",
            "Epoch 14/30\n",
            "1563/1563 [==============================] - 25s 16ms/step - loss: 0.4002 - accuracy: 0.8624 - val_loss: 0.5162 - val_accuracy: 0.8267\n",
            "Epoch 15/30\n",
            "1563/1563 [==============================] - 26s 16ms/step - loss: 0.3867 - accuracy: 0.8697 - val_loss: 0.4696 - val_accuracy: 0.8481\n",
            "Epoch 16/30\n",
            "1563/1563 [==============================] - 26s 17ms/step - loss: 0.3823 - accuracy: 0.8686 - val_loss: 0.4379 - val_accuracy: 0.8599\n",
            "Epoch 17/30\n",
            "1563/1563 [==============================] - 25s 16ms/step - loss: 0.3538 - accuracy: 0.8800 - val_loss: 0.4174 - val_accuracy: 0.8642\n",
            "Epoch 18/30\n",
            "1563/1563 [==============================] - 25s 16ms/step - loss: 0.3474 - accuracy: 0.8791 - val_loss: 0.5060 - val_accuracy: 0.8412\n",
            "Epoch 19/30\n",
            "1563/1563 [==============================] - 26s 16ms/step - loss: 0.3360 - accuracy: 0.8851 - val_loss: 0.4806 - val_accuracy: 0.8483\n",
            "Epoch 20/30\n",
            "1563/1563 [==============================] - 25s 16ms/step - loss: 0.3275 - accuracy: 0.8873 - val_loss: 0.5199 - val_accuracy: 0.8418\n",
            "Epoch 21/30\n",
            "1563/1563 [==============================] - 25s 16ms/step - loss: 0.3167 - accuracy: 0.8914 - val_loss: 0.4372 - val_accuracy: 0.8591\n",
            "Epoch 22/30\n",
            "1563/1563 [==============================] - 25s 16ms/step - loss: 0.3035 - accuracy: 0.8972 - val_loss: 0.4146 - val_accuracy: 0.8603\n",
            "Epoch 23/30\n",
            "1563/1563 [==============================] - 25s 16ms/step - loss: 0.2965 - accuracy: 0.8985 - val_loss: 0.3911 - val_accuracy: 0.8705\n",
            "Epoch 24/30\n",
            "1563/1563 [==============================] - 25s 16ms/step - loss: 0.2911 - accuracy: 0.9019 - val_loss: 0.4366 - val_accuracy: 0.8660\n",
            "Epoch 25/30\n",
            "1563/1563 [==============================] - 25s 16ms/step - loss: 0.2821 - accuracy: 0.9023 - val_loss: 0.4392 - val_accuracy: 0.8618\n",
            "Epoch 26/30\n",
            "1563/1563 [==============================] - 25s 16ms/step - loss: 0.2749 - accuracy: 0.9051 - val_loss: 0.4214 - val_accuracy: 0.8679\n",
            "Epoch 27/30\n",
            "1563/1563 [==============================] - 25s 16ms/step - loss: 0.2637 - accuracy: 0.9078 - val_loss: 0.4127 - val_accuracy: 0.8699\n",
            "Epoch 28/30\n",
            "1563/1563 [==============================] - 26s 16ms/step - loss: 0.2537 - accuracy: 0.9127 - val_loss: 0.4545 - val_accuracy: 0.8626\n",
            "Epoch 29/30\n",
            "1563/1563 [==============================] - 26s 16ms/step - loss: 0.2575 - accuracy: 0.9095 - val_loss: 0.3852 - val_accuracy: 0.8769\n",
            "Epoch 30/30\n",
            "1563/1563 [==============================] - 25s 16ms/step - loss: 0.2541 - accuracy: 0.9127 - val_loss: 0.4665 - val_accuracy: 0.8600\n"
          ],
          "name": "stdout"
        }
      ]
    },
    {
      "cell_type": "code",
      "metadata": {
        "colab": {
          "base_uri": "https://localhost:8080/",
          "height": 282
        },
        "id": "1mKJbPms4X3w",
        "outputId": "26299925-37ad-4115-a694-88007a2cb1f6"
      },
      "source": [
        "# Plot loss per iteration\r\n",
        "plt.plot(r.history['loss'], label = 'loss')\r\n",
        "plt.plot(r.history['val_loss'], label = \"val_loss\")\r\n",
        "plt.legend()"
      ],
      "execution_count": 11,
      "outputs": [
        {
          "output_type": "execute_result",
          "data": {
            "text/plain": [
              "<matplotlib.legend.Legend at 0x7f349d475898>"
            ]
          },
          "metadata": {
            "tags": []
          },
          "execution_count": 11
        },
        {
          "output_type": "display_data",
          "data": {
            "image/png": "[encoded data removed]",
            "text/plain": [
              "<Figure size 432x288 with 1 Axes>"
            ]
          },
          "metadata": {
            "tags": [],
            "needs_background": "light"
          }
        }
      ]
    },
    {
      "cell_type": "code",
      "metadata": {
        "colab": {
          "base_uri": "https://localhost:8080/",
          "height": 282
        },
        "id": "E76tLrju8CWM",
        "outputId": "657ce9c6-24fd-44bb-c70b-7d433669da4f"
      },
      "source": [
        "# Plot accuracy per iteration\r\n",
        "plt.plot(r.history['accuracy'], label=\"acc\")\r\n",
        "plt.plot(r.history['val_accuracy'], label = 'val_acc')\r\n",
        "plt.legend()"
      ],
      "execution_count": 12,
      "outputs": [
        {
          "output_type": "execute_result",
          "data": {
            "text/plain": [
              "<matplotlib.legend.Legend at 0x7f349d3fde10>"
            ]
          },
          "metadata": {
            "tags": []
          },
          "execution_count": 12
        },
        {
          "output_type": "display_data",
          "data": {
            "image/png": "[encoded data removed]",
            "text/plain": [
              "<Figure size 432x288 with 1 Axes>"
            ]
          },
          "metadata": {
            "tags": [],
            "needs_background": "light"
          }
        }
      ]
    },
    {
      "cell_type": "code",
      "metadata": {
        "id": "m3cp9sIj8gQ5"
      },
      "source": [
        "# label mapping\r\n",
        "labels = '''airplane\r\n",
        "automobile\r\n",
        "bird\r\n",
        "cat\r\n",
        "deer\r\n",
        "dog\r\n",
        "frog\r\n",
        "horse\r\n",
        "ship\r\n",
        "truck'''.split()"
      ],
      "execution_count": 15,
      "outputs": []
    },
    {
      "cell_type": "code",
      "metadata": {
        "colab": {
          "base_uri": "https://localhost:8080/",
          "height": 314
        },
        "id": "dpRkGH798nxI",
        "outputId": "1cc17c87-5cbf-448e-e5b4-b22562bfc595"
      },
      "source": [
        "# Show some misclassified examples\r\n",
        "p_test = model.predict(X_test).argmax(axis=1)\r\n",
        "misclassified_idx = np.where(p_test != X_test)[0]\r\n",
        "i = np.random.choice(misclassified_idx)\r\n",
        "plt.imshow(X_test[i], cmap='gray')\r\n",
        "plt.title(\"True Label : %s Predicted Label : %s\" % (labels[y_test[i]], labels[p_test[i]]));"
      ],
      "execution_count": 20,
      "outputs": [
        {
          "output_type": "stream",
          "text": [
            "/usr/local/lib/python3.6/dist-packages/ipykernel_launcher.py:3: DeprecationWarning: elementwise comparison failed; this will raise an error in the future.\n",
            "  This is separate from the ipykernel package so we can avoid doing imports until\n"
          ],
          "name": "stderr"
        },
        {
          "output_type": "display_data",
          "data": {
            "image/png": "[encoded data removed]",
            "text/plain": [
              "<Figure size 432x288 with 1 Axes>"
            ]
          },
          "metadata": {
            "tags": [],
            "needs_background": "light"
          }
        }
      ]
    },
    {
      "cell_type": "code",
      "metadata": {
        "colab": {
          "base_uri": "https://localhost:8080/"
        },
        "id": "PLsSCUsh9r_h",
        "outputId": "00365488-669f-47c5-8301-d02379adcf1d"
      },
      "source": [
        "model.summary()"
      ],
      "execution_count": 21,
      "outputs": [
        {
          "output_type": "stream",
          "text": [
            "Model: \"model\"\n",
            "_________________________________________________________________\n",
            "Layer (type)                 Output Shape              Param #   \n",
            "=================================================================\n",
            "input_1 (InputLayer)         [(None, 32, 32, 3)]       0         \n",
            "_________________________________________________________________\n",
            "conv2d (Conv2D)              (None, 32, 32, 32)        896       \n",
            "_________________________________________________________________\n",
            "batch_normalization (BatchNo (None, 32, 32, 32)        128       \n",
            "_________________________________________________________________\n",
            "conv2d_1 (Conv2D)            (None, 32, 32, 32)        9248      \n",
            "_________________________________________________________________\n",
            "batch_normalization_1 (Batch (None, 32, 32, 32)        128       \n",
            "_________________________________________________________________\n",
            "max_pooling2d (MaxPooling2D) (None, 16, 16, 32)        0         \n",
            "_________________________________________________________________\n",
            "conv2d_2 (Conv2D)            (None, 16, 16, 64)        18496     \n",
            "_________________________________________________________________\n",
            "batch_normalization_2 (Batch (None, 16, 16, 64)        256       \n",
            "_________________________________________________________________\n",
            "conv2d_3 (Conv2D)            (None, 16, 16, 64)        36928     \n",
            "_________________________________________________________________\n",
            "batch_normalization_3 (Batch (None, 16, 16, 64)        256       \n",
            "_________________________________________________________________\n",
            "max_pooling2d_1 (MaxPooling2 (None, 8, 8, 64)          0         \n",
            "_________________________________________________________________\n",
            "conv2d_4 (Conv2D)            (None, 8, 8, 128)         73856     \n",
            "_________________________________________________________________\n",
            "batch_normalization_4 (Batch (None, 8, 8, 128)         512       \n",
            "_________________________________________________________________\n",
            "conv2d_5 (Conv2D)            (None, 8, 8, 128)         147584    \n",
            "_________________________________________________________________\n",
            "batch_normalization_5 (Batch (None, 8, 8, 128)         512       \n",
            "_________________________________________________________________\n",
            "max_pooling2d_2 (MaxPooling2 (None, 4, 4, 128)         0         \n",
            "_________________________________________________________________\n",
            "flatten (Flatten)            (None, 2048)              0         \n",
            "_________________________________________________________________\n",
            "dropout (Dropout)            (None, 2048)              0         \n",
            "_________________________________________________________________\n",
            "dense (Dense)                (None, 1024)              2098176   \n",
            "_________________________________________________________________\n",
            "dropout_1 (Dropout)          (None, 1024)              0         \n",
            "_________________________________________________________________\n",
            "dense_1 (Dense)              (None, 10)                10250     \n",
            "=================================================================\n",
            "Total params: 2,397,226\n",
            "Trainable params: 2,396,330\n",
            "Non-trainable params: 896\n",
            "_________________________________________________________________\n"
          ],
          "name": "stdout"
        }
      ]
    },
    {
      "cell_type": "code",
      "metadata": {
        "id": "C3UVKtxm-Dkt"
      },
      "source": [
        ""
      ],
      "execution_count": null,
      "outputs": []
    }
  ]
}